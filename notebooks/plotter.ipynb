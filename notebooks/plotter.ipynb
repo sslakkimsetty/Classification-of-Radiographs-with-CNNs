{
 "cells": [
  {
   "cell_type": "markdown",
   "metadata": {},
   "source": [
    "## Used this notebook only to generate plots for presentations"
   ]
  },
  {
   "cell_type": "code",
   "execution_count": 1,
   "metadata": {},
   "outputs": [
    {
     "name": "stderr",
     "output_type": "stream",
     "text": [
      "Warning message:\n",
      "“package ‘tidyverse’ was built under R version 3.5.2”── \u001b[1mAttaching packages\u001b[22m ─────────────────────────────────────── tidyverse 1.2.1 ──\n",
      "\u001b[32m✔\u001b[39m \u001b[34mggplot2\u001b[39m 3.1.0       \u001b[32m✔\u001b[39m \u001b[34mpurrr  \u001b[39m 0.3.1  \n",
      "\u001b[32m✔\u001b[39m \u001b[34mtibble \u001b[39m 2.0.1       \u001b[32m✔\u001b[39m \u001b[34mdplyr  \u001b[39m 0.8.0.\u001b[31m1\u001b[39m\n",
      "\u001b[32m✔\u001b[39m \u001b[34mtidyr  \u001b[39m 0.8.2       \u001b[32m✔\u001b[39m \u001b[34mstringr\u001b[39m 1.3.1  \n",
      "\u001b[32m✔\u001b[39m \u001b[34mreadr  \u001b[39m 1.3.1       \u001b[32m✔\u001b[39m \u001b[34mforcats\u001b[39m 0.3.0  \n",
      "Warning message:\n",
      "“package ‘ggplot2’ was built under R version 3.5.2”Warning message:\n",
      "“package ‘tibble’ was built under R version 3.5.2”Warning message:\n",
      "“package ‘tidyr’ was built under R version 3.5.2”Warning message:\n",
      "“package ‘readr’ was built under R version 3.5.2”Warning message:\n",
      "“package ‘purrr’ was built under R version 3.5.2”Warning message:\n",
      "“package ‘dplyr’ was built under R version 3.5.2”Warning message:\n",
      "“package ‘stringr’ was built under R version 3.5.2”Warning message:\n",
      "“package ‘forcats’ was built under R version 3.5.2”── \u001b[1mConflicts\u001b[22m ────────────────────────────────────────── tidyverse_conflicts() ──\n",
      "\u001b[31m✖\u001b[39m \u001b[34mdplyr\u001b[39m::\u001b[32mfilter()\u001b[39m masks \u001b[34mstats\u001b[39m::filter()\n",
      "\u001b[31m✖\u001b[39m \u001b[34mdplyr\u001b[39m::\u001b[32mlag()\u001b[39m    masks \u001b[34mstats\u001b[39m::lag()\n",
      "Loading required package: viridisLite\n",
      "Warning message:\n",
      "“package ‘viridisLite’ was built under R version 3.5.2”"
     ]
    }
   ],
   "source": [
    "library(tidyverse)\n",
    "library(viridis)\n",
    "library(RColorBrewer)"
   ]
  },
  {
   "cell_type": "markdown",
   "metadata": {},
   "source": [
    "### Data summary"
   ]
  },
  {
   "cell_type": "code",
   "execution_count": 2,
   "metadata": {},
   "outputs": [],
   "source": [
    "data_summary = tribble(\n",
    "    ~study, ~train_normal, ~train_abnormal, ~valid_normal, ~valid_abnormal,\n",
    "    'Elbow', 1094, 660, 92, 66,\n",
    "    'Finger', 1280, 655, 92, 83,\n",
    "    'Hand', 1497, 521, 101, 66,\n",
    "    'Humerus', 321, 271, 68, 67,\n",
    "    'Forearm', 590, 287, 69, 64,\n",
    "    'Shoulder', 1364, 1457, 99, 95,\n",
    "    'Wrist', 2134, 1326, 140, 97\n",
    ")"
   ]
  },
  {
   "cell_type": "code",
   "execution_count": 3,
   "metadata": {},
   "outputs": [],
   "source": [
    "data_summary <- data_summary %>%\n",
    "    mutate(train_total = train_normal + train_abnormal,\n",
    "           valid_total = valid_normal + valid_abnormal,\n",
    "           total = train_total + valid_total)"
   ]
  },
  {
   "cell_type": "code",
   "execution_count": 4,
   "metadata": {},
   "outputs": [
    {
     "data": {
      "text/html": [
       "<table>\n",
       "<thead>\n",
       "\t<tr><th scope=col>study</th><th scope=col>train_normal</th><th scope=col>train_abnormal</th><th scope=col>valid_normal</th><th scope=col>valid_abnormal</th><th scope=col>train_total</th><th scope=col>valid_total</th><th scope=col>total</th></tr>\n",
       "</thead>\n",
       "<tbody>\n",
       "\t<tr><td>Elbow   </td><td>1094    </td><td> 660    </td><td> 92     </td><td>66      </td><td>1754    </td><td>158     </td><td>1912    </td></tr>\n",
       "\t<tr><td>Finger  </td><td>1280    </td><td> 655    </td><td> 92     </td><td>83      </td><td>1935    </td><td>175     </td><td>2110    </td></tr>\n",
       "\t<tr><td>Hand    </td><td>1497    </td><td> 521    </td><td>101     </td><td>66      </td><td>2018    </td><td>167     </td><td>2185    </td></tr>\n",
       "\t<tr><td>Humerus </td><td> 321    </td><td> 271    </td><td> 68     </td><td>67      </td><td> 592    </td><td>135     </td><td> 727    </td></tr>\n",
       "\t<tr><td>Forearm </td><td> 590    </td><td> 287    </td><td> 69     </td><td>64      </td><td> 877    </td><td>133     </td><td>1010    </td></tr>\n",
       "\t<tr><td>Shoulder</td><td>1364    </td><td>1457    </td><td> 99     </td><td>95      </td><td>2821    </td><td>194     </td><td>3015    </td></tr>\n",
       "\t<tr><td>Wrist   </td><td>2134    </td><td>1326    </td><td>140     </td><td>97      </td><td>3460    </td><td>237     </td><td>3697    </td></tr>\n",
       "</tbody>\n",
       "</table>\n"
      ],
      "text/latex": [
       "\\begin{tabular}{r|llllllll}\n",
       " study & train\\_normal & train\\_abnormal & valid\\_normal & valid\\_abnormal & train\\_total & valid\\_total & total\\\\\n",
       "\\hline\n",
       "\t Elbow    & 1094     &  660     &  92      & 66       & 1754     & 158      & 1912    \\\\\n",
       "\t Finger   & 1280     &  655     &  92      & 83       & 1935     & 175      & 2110    \\\\\n",
       "\t Hand     & 1497     &  521     & 101      & 66       & 2018     & 167      & 2185    \\\\\n",
       "\t Humerus  &  321     &  271     &  68      & 67       &  592     & 135      &  727    \\\\\n",
       "\t Forearm  &  590     &  287     &  69      & 64       &  877     & 133      & 1010    \\\\\n",
       "\t Shoulder & 1364     & 1457     &  99      & 95       & 2821     & 194      & 3015    \\\\\n",
       "\t Wrist    & 2134     & 1326     & 140      & 97       & 3460     & 237      & 3697    \\\\\n",
       "\\end{tabular}\n"
      ],
      "text/markdown": [
       "\n",
       "| study | train_normal | train_abnormal | valid_normal | valid_abnormal | train_total | valid_total | total |\n",
       "|---|---|---|---|---|---|---|---|\n",
       "| Elbow    | 1094     |  660     |  92      | 66       | 1754     | 158      | 1912     |\n",
       "| Finger   | 1280     |  655     |  92      | 83       | 1935     | 175      | 2110     |\n",
       "| Hand     | 1497     |  521     | 101      | 66       | 2018     | 167      | 2185     |\n",
       "| Humerus  |  321     |  271     |  68      | 67       |  592     | 135      |  727     |\n",
       "| Forearm  |  590     |  287     |  69      | 64       |  877     | 133      | 1010     |\n",
       "| Shoulder | 1364     | 1457     |  99      | 95       | 2821     | 194      | 3015     |\n",
       "| Wrist    | 2134     | 1326     | 140      | 97       | 3460     | 237      | 3697     |\n",
       "\n"
      ],
      "text/plain": [
       "  study    train_normal train_abnormal valid_normal valid_abnormal train_total\n",
       "1 Elbow    1094          660            92          66             1754       \n",
       "2 Finger   1280          655            92          83             1935       \n",
       "3 Hand     1497          521           101          66             2018       \n",
       "4 Humerus   321          271            68          67              592       \n",
       "5 Forearm   590          287            69          64              877       \n",
       "6 Shoulder 1364         1457            99          95             2821       \n",
       "7 Wrist    2134         1326           140          97             3460       \n",
       "  valid_total total\n",
       "1 158         1912 \n",
       "2 175         2110 \n",
       "3 167         2185 \n",
       "4 135          727 \n",
       "5 133         1010 \n",
       "6 194         3015 \n",
       "7 237         3697 "
      ]
     },
     "metadata": {},
     "output_type": "display_data"
    }
   ],
   "source": [
    "data_summary"
   ]
  },
  {
   "cell_type": "code",
   "execution_count": 5,
   "metadata": {},
   "outputs": [
    {
     "data": {
      "image/png": "[encoded data removed]",
      "text/plain": [
       "plot without title"
      ]
     },
     "metadata": {},
     "output_type": "display_data"
    }
   ],
   "source": [
    "options(repr.plot.width=6, repr.plot.height=3)\n",
    "count_plot <- data_summary %>%\n",
    "    select(study, train_total, valid_total, total) %>%\n",
    "    gather(key='set', value='count', -study, -total) %>%\n",
    "    ggplot(aes(x=reorder(study, -total), y=count)) +\n",
    "    geom_col(aes(fill=set), width=0.7) +\n",
    "    labs(x='Body part/Study', y='Image counts', title='Study counts for each part') +\n",
    "    scale_fill_manual(\"Set\", values=c('#33a02c', '#fb9a99'), \n",
    "                      labels=c('Train', 'Valid')) \n",
    "count_plot"
   ]
  },
  {
   "cell_type": "markdown",
   "metadata": {},
   "source": [
    "This plot shows the number of images we have for each study, according to the set. We see that the dataset has a high number of images for parts like Wrist and Shoulder (I guess they break easy) and a low count for Humerus. Humeus has about a third of the images in valid. "
   ]
  },
  {
   "cell_type": "code",
   "execution_count": 6,
   "metadata": {},
   "outputs": [],
   "source": [
    "ggsave('../plots/study_counts_for_part.png', plot = count_plot, height = 3, width = 6)"
   ]
  },
  {
   "cell_type": "code",
   "execution_count": 28,
   "metadata": {},
   "outputs": [],
   "source": [
    "x_order = reorder(data_summary[['study']], data_summary[['train_normal']])"
   ]
  },
  {
   "cell_type": "code",
   "execution_count": 32,
   "metadata": {},
   "outputs": [
    {
     "data": {
      "text/html": [
       "'factor'"
      ],
      "text/latex": [
       "'factor'"
      ],
      "text/markdown": [
       "'factor'"
      ],
      "text/plain": [
       "[1] \"factor\""
      ]
     },
     "metadata": {},
     "output_type": "display_data"
    }
   ],
   "source": [
    "class(x_order)"
   ]
  },
  {
   "cell_type": "code",
   "execution_count": 21,
   "metadata": {},
   "outputs": [
    {
     "data": {
      "text/html": [
       "<table>\n",
       "<thead>\n",
       "\t<tr><th scope=col>study</th><th scope=col>train_normal</th><th scope=col>train_abnormal</th><th scope=col>train_total</th><th scope=col>study_result</th><th scope=col>prop</th></tr>\n",
       "</thead>\n",
       "<tbody>\n",
       "\t<tr><td>Elbow    </td><td>1094     </td><td> 660     </td><td>1754     </td><td>normal   </td><td>0.6237172</td></tr>\n",
       "\t<tr><td>Finger   </td><td>1280     </td><td> 655     </td><td>1935     </td><td>normal   </td><td>0.6614987</td></tr>\n",
       "\t<tr><td>Hand     </td><td>1497     </td><td> 521     </td><td>2018     </td><td>normal   </td><td>0.7418236</td></tr>\n",
       "\t<tr><td>Humerus  </td><td> 321     </td><td> 271     </td><td> 592     </td><td>normal   </td><td>0.5422297</td></tr>\n",
       "\t<tr><td>Forearm  </td><td> 590     </td><td> 287     </td><td> 877     </td><td>normal   </td><td>0.6727480</td></tr>\n",
       "\t<tr><td>Shoulder </td><td>1364     </td><td>1457     </td><td>2821     </td><td>normal   </td><td>0.4835165</td></tr>\n",
       "\t<tr><td>Wrist    </td><td>2134     </td><td>1326     </td><td>3460     </td><td>normal   </td><td>0.6167630</td></tr>\n",
       "\t<tr><td>Elbow    </td><td>1094     </td><td> 660     </td><td>1754     </td><td>abnormal </td><td>0.3762828</td></tr>\n",
       "\t<tr><td>Finger   </td><td>1280     </td><td> 655     </td><td>1935     </td><td>abnormal </td><td>0.3385013</td></tr>\n",
       "\t<tr><td>Hand     </td><td>1497     </td><td> 521     </td><td>2018     </td><td>abnormal </td><td>0.2581764</td></tr>\n",
       "\t<tr><td>Humerus  </td><td> 321     </td><td> 271     </td><td> 592     </td><td>abnormal </td><td>0.4577703</td></tr>\n",
       "\t<tr><td>Forearm  </td><td> 590     </td><td> 287     </td><td> 877     </td><td>abnormal </td><td>0.3272520</td></tr>\n",
       "\t<tr><td>Shoulder </td><td>1364     </td><td>1457     </td><td>2821     </td><td>abnormal </td><td>0.5164835</td></tr>\n",
       "\t<tr><td>Wrist    </td><td>2134     </td><td>1326     </td><td>3460     </td><td>abnormal </td><td>0.3832370</td></tr>\n",
       "</tbody>\n",
       "</table>\n"
      ],
      "text/latex": [
       "\\begin{tabular}{r|llllll}\n",
       " study & train\\_normal & train\\_abnormal & train\\_total & study\\_result & prop\\\\\n",
       "\\hline\n",
       "\t Elbow     & 1094      &  660      & 1754      & normal    & 0.6237172\\\\\n",
       "\t Finger    & 1280      &  655      & 1935      & normal    & 0.6614987\\\\\n",
       "\t Hand      & 1497      &  521      & 2018      & normal    & 0.7418236\\\\\n",
       "\t Humerus   &  321      &  271      &  592      & normal    & 0.5422297\\\\\n",
       "\t Forearm   &  590      &  287      &  877      & normal    & 0.6727480\\\\\n",
       "\t Shoulder  & 1364      & 1457      & 2821      & normal    & 0.4835165\\\\\n",
       "\t Wrist     & 2134      & 1326      & 3460      & normal    & 0.6167630\\\\\n",
       "\t Elbow     & 1094      &  660      & 1754      & abnormal  & 0.3762828\\\\\n",
       "\t Finger    & 1280      &  655      & 1935      & abnormal  & 0.3385013\\\\\n",
       "\t Hand      & 1497      &  521      & 2018      & abnormal  & 0.2581764\\\\\n",
       "\t Humerus   &  321      &  271      &  592      & abnormal  & 0.4577703\\\\\n",
       "\t Forearm   &  590      &  287      &  877      & abnormal  & 0.3272520\\\\\n",
       "\t Shoulder  & 1364      & 1457      & 2821      & abnormal  & 0.5164835\\\\\n",
       "\t Wrist     & 2134      & 1326      & 3460      & abnormal  & 0.3832370\\\\\n",
       "\\end{tabular}\n"
      ],
      "text/markdown": [
       "\n",
       "| study | train_normal | train_abnormal | train_total | study_result | prop |\n",
       "|---|---|---|---|---|---|\n",
       "| Elbow     | 1094      |  660      | 1754      | normal    | 0.6237172 |\n",
       "| Finger    | 1280      |  655      | 1935      | normal    | 0.6614987 |\n",
       "| Hand      | 1497      |  521      | 2018      | normal    | 0.7418236 |\n",
       "| Humerus   |  321      |  271      |  592      | normal    | 0.5422297 |\n",
       "| Forearm   |  590      |  287      |  877      | normal    | 0.6727480 |\n",
       "| Shoulder  | 1364      | 1457      | 2821      | normal    | 0.4835165 |\n",
       "| Wrist     | 2134      | 1326      | 3460      | normal    | 0.6167630 |\n",
       "| Elbow     | 1094      |  660      | 1754      | abnormal  | 0.3762828 |\n",
       "| Finger    | 1280      |  655      | 1935      | abnormal  | 0.3385013 |\n",
       "| Hand      | 1497      |  521      | 2018      | abnormal  | 0.2581764 |\n",
       "| Humerus   |  321      |  271      |  592      | abnormal  | 0.4577703 |\n",
       "| Forearm   |  590      |  287      |  877      | abnormal  | 0.3272520 |\n",
       "| Shoulder  | 1364      | 1457      | 2821      | abnormal  | 0.5164835 |\n",
       "| Wrist     | 2134      | 1326      | 3460      | abnormal  | 0.3832370 |\n",
       "\n"
      ],
      "text/plain": [
       "   study    train_normal train_abnormal train_total study_result prop     \n",
       "1  Elbow    1094          660           1754        normal       0.6237172\n",
       "2  Finger   1280          655           1935        normal       0.6614987\n",
       "3  Hand     1497          521           2018        normal       0.7418236\n",
       "4  Humerus   321          271            592        normal       0.5422297\n",
       "5  Forearm   590          287            877        normal       0.6727480\n",
       "6  Shoulder 1364         1457           2821        normal       0.4835165\n",
       "7  Wrist    2134         1326           3460        normal       0.6167630\n",
       "8  Elbow    1094          660           1754        abnormal     0.3762828\n",
       "9  Finger   1280          655           1935        abnormal     0.3385013\n",
       "10 Hand     1497          521           2018        abnormal     0.2581764\n",
       "11 Humerus   321          271            592        abnormal     0.4577703\n",
       "12 Forearm   590          287            877        abnormal     0.3272520\n",
       "13 Shoulder 1364         1457           2821        abnormal     0.5164835\n",
       "14 Wrist    2134         1326           3460        abnormal     0.3832370"
      ]
     },
     "metadata": {},
     "output_type": "display_data"
    }
   ],
   "source": [
    "data_summary %>%\n",
    "    select(study:train_abnormal, train_total) %>%\n",
    "    mutate(normal = train_normal / train_total,\n",
    "           abnormal = train_abnormal / train_total) %>%\n",
    "    gather(key=\"study_result\", value=\"prop\", normal, abnormal) "
   ]
  },
  {
   "cell_type": "code",
   "execution_count": 30,
   "metadata": {},
   "outputs": [
    {
     "name": "stderr",
     "output_type": "stream",
     "text": [
      "ERROR while rich displaying an object: Error: Aesthetics must be either length 1 or the same as the data (14): x\n",
      "\n",
      "Traceback:\n",
      "1. FUN(X[[i]], ...)\n",
      "2. tryCatch(withCallingHandlers({\n",
      " .     if (!mime %in% names(repr::mime2repr)) \n",
      " .         stop(\"No repr_* for mimetype \", mime, \" in repr::mime2repr\")\n",
      " .     rpr <- repr::mime2repr[[mime]](obj)\n",
      " .     if (is.null(rpr)) \n",
      " .         return(NULL)\n",
      " .     prepare_content(is.raw(rpr), rpr)\n",
      " . }, error = error_handler), error = outer_handler)\n",
      "3. tryCatchList(expr, classes, parentenv, handlers)\n",
      "4. tryCatchOne(expr, names, parentenv, handlers[[1L]])\n",
      "5. doTryCatch(return(expr), name, parentenv, handler)\n",
      "6. withCallingHandlers({\n",
      " .     if (!mime %in% names(repr::mime2repr)) \n",
      " .         stop(\"No repr_* for mimetype \", mime, \" in repr::mime2repr\")\n",
      " .     rpr <- repr::mime2repr[[mime]](obj)\n",
      " .     if (is.null(rpr)) \n",
      " .         return(NULL)\n",
      " .     prepare_content(is.raw(rpr), rpr)\n",
      " . }, error = error_handler)\n",
      "7. repr::mime2repr[[mime]](obj)\n",
      "8. repr_text.default(obj)\n",
      "9. paste(capture.output(print(obj)), collapse = \"\\n\")\n",
      "10. capture.output(print(obj))\n",
      "11. evalVis(expr)\n",
      "12. withVisible(eval(expr, pf))\n",
      "13. eval(expr, pf)\n",
      "14. eval(expr, pf)\n",
      "15. print(obj)\n",
      "16. print.ggplot(obj)\n",
      "17. ggplot_build(x)\n",
      "18. ggplot_build.ggplot(x)\n",
      "19. by_layer(function(l, d) l$compute_aesthetics(d, plot))\n",
      "20. f(l = layers[[i]], d = data[[i]])\n",
      "21. l$compute_aesthetics(d, plot)\n",
      "22. f(..., self = self)\n",
      "23. check_aesthetics(evaled, n)\n",
      "24. stop(\"Aesthetics must be either length 1 or the same as the data (\", \n",
      "  .     n, \"): \", paste(names(which(!good)), collapse = \", \"), call. = FALSE)\n"
     ]
    },
    {
     "data": {
      "image/png": "[encoded data removed]",
      "text/plain": [
       "plot without title"
      ]
     },
     "metadata": {},
     "output_type": "display_data"
    }
   ],
   "source": [
    "options(repr.plot.width=7, repr.plot.height=4)\n",
    "imbalance_plot <- data_summary %>%\n",
    "    select(study:train_abnormal, train_total) %>%\n",
    "    mutate(normal = train_normal / train_total,\n",
    "           abnormal = train_abnormal / train_total) %>%\n",
    "    gather(key=\"study_result\", value=\"prop\", normal, abnormal) %>%\n",
    "    ggplot() +\n",
    "    geom_col(aes(x=re, y=prop, \n",
    "                 fill=study_result)) +\n",
    "    #scale_fill_manual(\"Set\", values=c('#fb8072', '#66c2a5'), \n",
    "    #                  labels=c('Abnormal', 'Normal')) +\n",
    "    labs(x='Study', y='Proportion', title='Normal/Abnormal imbalance in train set')\n",
    "imbalance_plot"
   ]
  },
  {
   "cell_type": "code",
   "execution_count": 205,
   "metadata": {},
   "outputs": [],
   "source": [
    "ggsave('../plots/normal_abnormal_for_train.png', plot = imbalance_plot, height = 4, width = 7)"
   ]
  }
 ],
 "metadata": {
  "kernelspec": {
   "display_name": "R",
   "language": "R",
   "name": "ir"
  },
  "language_info": {
   "codemirror_mode": "r",
   "file_extension": ".r",
   "mimetype": "text/x-r-source",
   "name": "R",
   "pygments_lexer": "r",
   "version": "3.5.1"
  }
 },
 "nbformat": 4,
 "nbformat_minor": 2
}

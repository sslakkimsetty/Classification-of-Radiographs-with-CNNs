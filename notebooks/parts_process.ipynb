{
 "cells": [
  {
   "cell_type": "code",
   "execution_count": 3,
   "metadata": {},
   "outputs": [
    {
     "name": "stderr",
     "output_type": "stream",
     "text": [
      "Warning message:\n",
      "“package ‘tidyverse’ was built under R version 3.5.2”── \u001b[1mAttaching packages\u001b[22m ─────────────────────────────────────── tidyverse 1.2.1 ──\n",
      "\u001b[32m✔\u001b[39m \u001b[34mggplot2\u001b[39m 3.1.0       \u001b[32m✔\u001b[39m \u001b[34mpurrr  \u001b[39m 0.3.1  \n",
      "\u001b[32m✔\u001b[39m \u001b[34mtibble \u001b[39m 2.0.1       \u001b[32m✔\u001b[39m \u001b[34mdplyr  \u001b[39m 0.8.0.\u001b[31m1\u001b[39m\n",
      "\u001b[32m✔\u001b[39m \u001b[34mtidyr  \u001b[39m 0.8.2       \u001b[32m✔\u001b[39m \u001b[34mstringr\u001b[39m 1.3.1  \n",
      "\u001b[32m✔\u001b[39m \u001b[34mreadr  \u001b[39m 1.3.1       \u001b[32m✔\u001b[39m \u001b[34mforcats\u001b[39m 0.3.0  \n",
      "Warning message:\n",
      "“package ‘ggplot2’ was built under R version 3.5.2”Warning message:\n",
      "“package ‘tibble’ was built under R version 3.5.2”Warning message:\n",
      "“package ‘tidyr’ was built under R version 3.5.2”Warning message:\n",
      "“package ‘readr’ was built under R version 3.5.3”Warning message:\n",
      "“package ‘purrr’ was built under R version 3.5.2”Warning message:\n",
      "“package ‘dplyr’ was built under R version 3.5.2”Warning message:\n",
      "“package ‘stringr’ was built under R version 3.5.2”Warning message:\n",
      "“package ‘forcats’ was built under R version 3.5.2”── \u001b[1mConflicts\u001b[22m ────────────────────────────────────────── tidyverse_conflicts() ──\n",
      "\u001b[31m✖\u001b[39m \u001b[34mdplyr\u001b[39m::\u001b[32mfilter()\u001b[39m masks \u001b[34mstats\u001b[39m::filter()\n",
      "\u001b[31m✖\u001b[39m \u001b[34mdplyr\u001b[39m::\u001b[32mlag()\u001b[39m    masks \u001b[34mstats\u001b[39m::lag()\n"
     ]
    }
   ],
   "source": [
    "library(tidyverse)"
   ]
  },
  {
   "cell_type": "code",
   "execution_count": 15,
   "metadata": {},
   "outputs": [],
   "source": [
    "process_files <- function(path, process_path, type) {\n",
    "    paths <- read_csv(path, col_names = c('path'))\n",
    "    paths <- paths %>%\n",
    "        separate(path, into = c('mura', 'type', 'part', 'patient', 'study', 'img'), \n",
    "                 sep='/', remove=F) %>%\n",
    "        select(-mura, -type) %>%\n",
    "        separate(part, into = c('XR', 'part')) %>% select(-XR) %>%\n",
    "        separate(study, into = c('study_id', 'result')) %>%\n",
    "        mutate(part = tolower(part),\n",
    "               result = ifelse(result == \"positive\", \"abnormal\", \"normal\")) %>%\n",
    "        select(patient, study_id, img, path, part, result)\n",
    "    \n",
    "    ## save all in one file\n",
    "    write_csv(paths, paste0(process_path, type, '_all.csv'))\n",
    "    \n",
    "    ## save individual study files\n",
    "    for (study in unique(paths[['part']])) {\n",
    "        part_imgs <- paths %>%\n",
    "            filter(part == study)\n",
    "        write_csv(part_imgs, paste0(process_path, type, '_', study, '.csv'))\n",
    "    }\n",
    "}"
   ]
  },
  {
   "cell_type": "markdown",
   "metadata": {},
   "source": [
    "#### Process train set"
   ]
  },
  {
   "cell_type": "code",
   "execution_count": 90,
   "metadata": {},
   "outputs": [
    {
     "name": "stderr",
     "output_type": "stream",
     "text": [
      "Parsed with column specification:\n",
      "cols(\n",
      "  path = \u001b[31mcol_character()\u001b[39m\n",
      ")\n"
     ]
    }
   ],
   "source": [
    "process_files('../data//MURA-v1.1//train_image_paths.csv', '../data//processed/', 'train')"
   ]
  },
  {
   "cell_type": "markdown",
   "metadata": {},
   "source": [
    "#### Process test set"
   ]
  },
  {
   "cell_type": "code",
   "execution_count": 16,
   "metadata": {},
   "outputs": [
    {
     "name": "stderr",
     "output_type": "stream",
     "text": [
      "Parsed with column specification:\n",
      "cols(\n",
      "  path = \u001b[31mcol_character()\u001b[39m\n",
      ")\n"
     ]
    }
   ],
   "source": [
    "pp = process_files('../data//MURA-v1.1//valid_image_paths.csv', '../data//processed_2/', 'valid')"
   ]
  },
  {
   "cell_type": "code",
   "execution_count": null,
   "metadata": {},
   "outputs": [],
   "source": []
  }
 ],
 "metadata": {
  "kernelspec": {
   "display_name": "R",
   "language": "R",
   "name": "ir"
  },
  "language_info": {
   "codemirror_mode": "r",
   "file_extension": ".r",
   "mimetype": "text/x-r-source",
   "name": "R",
   "pygments_lexer": "r",
   "version": "3.5.1"
  }
 },
 "nbformat": 4,
 "nbformat_minor": 2
}
